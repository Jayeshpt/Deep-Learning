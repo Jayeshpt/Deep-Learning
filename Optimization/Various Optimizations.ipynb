{
 "cells": [
  {
   "cell_type": "code",
   "execution_count": 7,
   "id": "21dcd8bc-af1e-44b8-bdf3-214b1119a43f",
   "metadata": {},
   "outputs": [],
   "source": [
    "import keras\n",
    "from keras.models import Sequential\n",
    "from keras.layers import Dense\n",
    "from keras.optimizers import SGD, Adam, Adagrad, RMSprop\n"
   ]
  },
  {
   "cell_type": "code",
   "execution_count": 8,
   "id": "7a3d236f-2263-4d12-aa6e-636fe8db0a4b",
   "metadata": {},
   "outputs": [],
   "source": [
    "# Load the dataset and split it into training and testing sets\n",
    "import tensorflow as tf\n",
    "from tensorflow.keras.datasets import mnist\n",
    "\n",
    "# Load the dataset and split it into training and testing sets\n",
    "(X_train, y_train), (X_test, y_test) = mnist.load_data()\n",
    "X_train = X_train.reshape(X_train.shape[0], -1) / 255.0\n",
    "X_test = X_test.reshape(X_test.shape[0], -1) / 255.0\n",
    "y_train = tf.keras.utils.to_categorical(y_train, num_classes=10)\n",
    "y_test = tf.keras.utils.to_categorical(y_test, num_classes=10)\n"
   ]
  },
  {
   "cell_type": "code",
   "execution_count": 9,
   "id": "c90dff2e-b426-440b-b982-8e2217f6c608",
   "metadata": {
    "scrolled": true,
    "tags": []
   },
   "outputs": [],
   "source": [
    "# Define the model architecture\n",
    "model = Sequential()\n",
    "model.add(Dense(128, activation='relu', input_dim=X_train.shape[1]))\n",
    "model.add(Dense(64, activation='relu'))\n",
    "model.add(Dense(10, activation='softmax'))\n",
    "\n"
   ]
  },
  {
   "cell_type": "code",
   "execution_count": 10,
   "id": "be961f53-50e5-4ffd-9588-c9d32559a298",
   "metadata": {},
   "outputs": [],
   "source": [
    "# Compile the model with different optimizers\n",
    "sgd = SGD(learning_rate=0.01, momentum=0.9)\n",
    "model.compile(optimizer=sgd, loss='categorical_crossentropy', metrics=['accuracy'])\n",
    "\n",
    "# adam = Adam(learning_rate=0.001)\n",
    "# model.compile(optimizer=adam, loss='categorical_crossentropy', metrics=['accuracy'])\n",
    "\n",
    "# adagrad = Adagrad(learning_rate=0.01)\n",
    "# model.compile(optimizer=adagrad, loss='categorical_crossentropy', metrics=['accuracy'])\n",
    "\n",
    "# rmsprop = RMSprop(learning_rate=0.001)\n",
    "# model.compile(optimizer=rmsprop, loss='categorical_crossentropy', metrics=['accuracy'])\n",
    "\n"
   ]
  },
  {
   "cell_type": "code",
   "execution_count": 11,
   "id": "8e338b53-da88-438b-bdbf-fbd20215821b",
   "metadata": {},
   "outputs": [
    {
     "name": "stdout",
     "output_type": "stream",
     "text": [
      "Epoch 1/10\n",
      "469/469 [==============================] - 1s 2ms/step - loss: 0.4970 - accuracy: 0.8551 - val_loss: 0.2526 - val_accuracy: 0.9269\n",
      "Epoch 2/10\n",
      "469/469 [==============================] - 1s 2ms/step - loss: 0.2185 - accuracy: 0.9362 - val_loss: 0.1833 - val_accuracy: 0.9464\n",
      "Epoch 3/10\n",
      "469/469 [==============================] - 1s 2ms/step - loss: 0.1658 - accuracy: 0.9518 - val_loss: 0.1479 - val_accuracy: 0.9553\n",
      "Epoch 4/10\n",
      "469/469 [==============================] - 1s 2ms/step - loss: 0.1341 - accuracy: 0.9613 - val_loss: 0.1223 - val_accuracy: 0.9612\n",
      "Epoch 5/10\n",
      "469/469 [==============================] - 1s 2ms/step - loss: 0.1121 - accuracy: 0.9671 - val_loss: 0.1131 - val_accuracy: 0.9656\n",
      "Epoch 6/10\n",
      "469/469 [==============================] - 1s 2ms/step - loss: 0.0961 - accuracy: 0.9715 - val_loss: 0.1051 - val_accuracy: 0.9669\n",
      "Epoch 7/10\n",
      "469/469 [==============================] - 1s 2ms/step - loss: 0.0836 - accuracy: 0.9757 - val_loss: 0.0896 - val_accuracy: 0.9721\n",
      "Epoch 8/10\n",
      "469/469 [==============================] - 1s 2ms/step - loss: 0.0749 - accuracy: 0.9779 - val_loss: 0.0891 - val_accuracy: 0.9731\n",
      "Epoch 9/10\n",
      "469/469 [==============================] - 1s 2ms/step - loss: 0.0653 - accuracy: 0.9812 - val_loss: 0.0830 - val_accuracy: 0.9739\n",
      "Epoch 10/10\n",
      "469/469 [==============================] - 1s 2ms/step - loss: 0.0583 - accuracy: 0.9834 - val_loss: 0.0788 - val_accuracy: 0.9750\n"
     ]
    }
   ],
   "source": [
    "# Train the model with the selected optimizer\n",
    "history = model.fit(X_train, y_train, epochs=10, batch_size=128, validation_data=(X_test, y_test))"
   ]
  },
  {
   "cell_type": "code",
   "execution_count": null,
   "id": "3c6c75c9-9ef3-4dba-b846-522cf290afd7",
   "metadata": {},
   "outputs": [],
   "source": []
  }
 ],
 "metadata": {
  "kernelspec": {
   "display_name": "Python 3 (ipykernel)",
   "language": "python",
   "name": "python3"
  },
  "language_info": {
   "codemirror_mode": {
    "name": "ipython",
    "version": 3
   },
   "file_extension": ".py",
   "mimetype": "text/x-python",
   "name": "python",
   "nbconvert_exporter": "python",
   "pygments_lexer": "ipython3",
   "version": "3.9.16"
  }
 },
 "nbformat": 4,
 "nbformat_minor": 5
}
