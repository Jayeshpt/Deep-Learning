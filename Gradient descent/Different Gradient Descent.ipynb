{
 "cells": [
  {
   "cell_type": "code",
   "execution_count": 1,
   "id": "cc69f056-767c-4d6e-9779-33465da08916",
   "metadata": {},
   "outputs": [
    {
     "name": "stdout",
     "output_type": "stream",
     "text": [
      "(60000, 28, 28) (60000,)\n"
     ]
    }
   ],
   "source": [
    "#Step 1: Import necessary libraries\n",
    "\n",
    "import keras\n",
    "from keras.datasets import mnist\n",
    "from keras.models import Sequential\n",
    "from keras.layers import Dense, Dropout, Flatten\n",
    "from keras.layers import Conv2D, MaxPooling2D\n",
    "from keras import backend as K\n",
    "(x_train, y_train), (x_test, y_test) = mnist.load_data()\n",
    "print(x_train.shape, y_train.shape)"
   ]
  },
  {
   "cell_type": "code",
   "execution_count": 2,
   "id": "726257dc-05f3-4e89-9366-16115a0f76cd",
   "metadata": {},
   "outputs": [],
   "source": [
    "#Step 2: Load the dataset\n",
    "\n",
    "x_train= x_train.reshape(x_train.shape[0],28,28,1)\n",
    "x_test=  x_test.reshape(x_test.shape[0],28,28,1)\n",
    "input_shape=(28,28,1)\n",
    "y_train=keras.utils.to_categorical(y_train)#,num_classes=)\n",
    "y_test=keras.utils.to_categorical(y_test)#, num_classes)\n",
    "x_train= x_train.astype('float32')\n",
    "x_test= x_test.astype('float32')\n",
    "x_train /= 255\n",
    "x_test /=255\n"
   ]
  },
  {
   "cell_type": "code",
   "execution_count": 6,
   "id": "e3516839-8b45-4c9a-820b-aa0eb79ed7ea",
   "metadata": {},
   "outputs": [],
   "source": [
    "#Step 3: Build the model\n",
    "\n",
    "batch_size=64\n",
    "\n",
    "num_classes=10\n",
    "\n",
    "epochs=10\n",
    "\n",
    "def build_model(optimizer):\n",
    "\n",
    "    model=Sequential()\n",
    "\n",
    "    model.add(Conv2D(32,kernel_size=(3,3),activation='relu',input_shape=input_shape))\n",
    "\n",
    "    model.add(MaxPooling2D(pool_size=(2,2)))\n",
    "\n",
    "    model.add(Dropout(0.25))\n",
    "    \n",
    "    model.add(Flatten())\n",
    "\n",
    "    model.add(Dense(256, activation='relu'))\n",
    "\n",
    "    model.add(Dropout(0.5))\n",
    "    \n",
    "    model.add(Dense(num_classes, activation='softmax'))\n",
    "    \n",
    "    model.compile(loss=keras.losses.categorical_crossentropy, optimizer= optimizer, metrics=['accuracy'])\n",
    "\n",
    "    return model\n"
   ]
  },
  {
   "cell_type": "code",
   "execution_count": 10,
   "id": "83a6499d-fac0-4111-b989-a89f95749169",
   "metadata": {},
   "outputs": [
    {
     "name": "stdout",
     "output_type": "stream",
     "text": [
      "Epoch 1/10\n",
      "938/938 [==============================] - 39s 41ms/step - loss: 2.2471 - accuracy: 0.1780 - val_loss: 2.1773 - val_accuracy: 0.4338\n",
      "Epoch 2/10\n",
      "938/938 [==============================] - 39s 42ms/step - loss: 2.1441 - accuracy: 0.3397 - val_loss: 2.0601 - val_accuracy: 0.6554\n",
      "Epoch 3/10\n",
      "938/938 [==============================] - 40s 43ms/step - loss: 2.0319 - accuracy: 0.4756 - val_loss: 1.9302 - val_accuracy: 0.7149\n",
      "Epoch 4/10\n",
      "938/938 [==============================] - 39s 42ms/step - loss: 1.9070 - accuracy: 0.5631 - val_loss: 1.7865 - val_accuracy: 0.7450\n",
      "Epoch 5/10\n",
      "938/938 [==============================] - 40s 43ms/step - loss: 1.7712 - accuracy: 0.6130 - val_loss: 1.6356 - val_accuracy: 0.7694\n",
      "Epoch 6/10\n",
      "938/938 [==============================] - 39s 42ms/step - loss: 1.6317 - accuracy: 0.6506 - val_loss: 1.4841 - val_accuracy: 0.7845\n",
      "Epoch 7/10\n",
      "938/938 [==============================] - 38s 41ms/step - loss: 1.4909 - accuracy: 0.6791 - val_loss: 1.3388 - val_accuracy: 0.7997\n",
      "Epoch 8/10\n",
      "938/938 [==============================] - 39s 42ms/step - loss: 1.3663 - accuracy: 0.6969 - val_loss: 1.2057 - val_accuracy: 0.8118\n",
      "Epoch 9/10\n",
      "938/938 [==============================] - 36s 39ms/step - loss: 1.2527 - accuracy: 0.7129 - val_loss: 1.0886 - val_accuracy: 0.8193\n",
      "Epoch 10/10\n",
      "938/938 [==============================] - 42s 44ms/step - loss: 1.1560 - accuracy: 0.7262 - val_loss: 0.9878 - val_accuracy: 0.8261\n"
     ]
    }
   ],
   "source": [
    "optimizers = ['Adadelta']\n",
    "\n",
    "for i in optimizers:\n",
    "\n",
    "    model = build_model(i)\n",
    "\n",
    "    hist=model.fit(x_train, y_train, batch_size=batch_size, epochs=epochs, verbose=1, validation_data=(x_test,y_test))"
   ]
  },
  {
   "cell_type": "code",
   "execution_count": 11,
   "id": "187e1e83-88ee-4f10-bcf8-92a4c2dee81f",
   "metadata": {},
   "outputs": [
    {
     "name": "stdout",
     "output_type": "stream",
     "text": [
      "Epoch 1/10\n",
      "938/938 [==============================] - 30s 31ms/step - loss: 1.6284 - accuracy: 0.5325 - val_loss: 0.8113 - val_accuracy: 0.8337\n",
      "Epoch 2/10\n",
      "938/938 [==============================] - 38s 40ms/step - loss: 0.7583 - accuracy: 0.7848 - val_loss: 0.4781 - val_accuracy: 0.8839\n",
      "Epoch 3/10\n",
      "938/938 [==============================] - 28s 30ms/step - loss: 0.5717 - accuracy: 0.8311 - val_loss: 0.3903 - val_accuracy: 0.8973\n",
      "Epoch 4/10\n",
      "938/938 [==============================] - 31s 33ms/step - loss: 0.4980 - accuracy: 0.8525 - val_loss: 0.3471 - val_accuracy: 0.9085\n",
      "Epoch 5/10\n",
      "938/938 [==============================] - 26s 28ms/step - loss: 0.4541 - accuracy: 0.8647 - val_loss: 0.3203 - val_accuracy: 0.9132\n",
      "Epoch 6/10\n",
      "938/938 [==============================] - 26s 28ms/step - loss: 0.4218 - accuracy: 0.8747 - val_loss: 0.2997 - val_accuracy: 0.9183\n",
      "Epoch 7/10\n",
      "938/938 [==============================] - 26s 28ms/step - loss: 0.4006 - accuracy: 0.8808 - val_loss: 0.2835 - val_accuracy: 0.9206\n",
      "Epoch 8/10\n",
      "938/938 [==============================] - 26s 27ms/step - loss: 0.3813 - accuracy: 0.8867 - val_loss: 0.2710 - val_accuracy: 0.9231\n",
      "Epoch 9/10\n",
      "938/938 [==============================] - 29s 31ms/step - loss: 0.3629 - accuracy: 0.8920 - val_loss: 0.2589 - val_accuracy: 0.9261\n",
      "Epoch 10/10\n",
      "938/938 [==============================] - 32s 34ms/step - loss: 0.3510 - accuracy: 0.8960 - val_loss: 0.2496 - val_accuracy: 0.9278\n"
     ]
    }
   ],
   "source": [
    "optimizers = ['Adagrad']\n",
    "\n",
    "for i in optimizers:\n",
    "\n",
    "    model = build_model(i)\n",
    "\n",
    "    hist=model.fit(x_train, y_train, batch_size=batch_size, epochs=epochs, verbose=1, validation_data=(x_test,y_test))"
   ]
  },
  {
   "cell_type": "code",
   "execution_count": 12,
   "id": "66a9517f-5b11-4a97-98de-7a2e82a999cb",
   "metadata": {},
   "outputs": [
    {
     "name": "stdout",
     "output_type": "stream",
     "text": [
      "Epoch 1/10\n",
      "938/938 [==============================] - 33s 34ms/step - loss: 0.2275 - accuracy: 0.9323 - val_loss: 0.0641 - val_accuracy: 0.9789\n",
      "Epoch 2/10\n",
      "938/938 [==============================] - 31s 33ms/step - loss: 0.0879 - accuracy: 0.9741 - val_loss: 0.0503 - val_accuracy: 0.9824\n",
      "Epoch 3/10\n",
      "938/938 [==============================] - 31s 33ms/step - loss: 0.0662 - accuracy: 0.9800 - val_loss: 0.0446 - val_accuracy: 0.9840\n",
      "Epoch 4/10\n",
      "938/938 [==============================] - 31s 33ms/step - loss: 0.0533 - accuracy: 0.9832 - val_loss: 0.0361 - val_accuracy: 0.9879\n",
      "Epoch 5/10\n",
      "938/938 [==============================] - 31s 33ms/step - loss: 0.0484 - accuracy: 0.9855 - val_loss: 0.0359 - val_accuracy: 0.9877\n",
      "Epoch 6/10\n",
      "938/938 [==============================] - 31s 33ms/step - loss: 0.0390 - accuracy: 0.9873 - val_loss: 0.0327 - val_accuracy: 0.9884\n",
      "Epoch 7/10\n",
      "938/938 [==============================] - 31s 33ms/step - loss: 0.0347 - accuracy: 0.9887 - val_loss: 0.0361 - val_accuracy: 0.9883\n",
      "Epoch 8/10\n",
      "938/938 [==============================] - 31s 33ms/step - loss: 0.0299 - accuracy: 0.9903 - val_loss: 0.0350 - val_accuracy: 0.9882\n",
      "Epoch 9/10\n",
      "938/938 [==============================] - 32s 34ms/step - loss: 0.0278 - accuracy: 0.9909 - val_loss: 0.0353 - val_accuracy: 0.9887\n",
      "Epoch 10/10\n",
      "938/938 [==============================] - 31s 33ms/step - loss: 0.0244 - accuracy: 0.9920 - val_loss: 0.0354 - val_accuracy: 0.9879\n"
     ]
    }
   ],
   "source": [
    "optimizers = ['Adam']\n",
    "\n",
    "for i in optimizers:\n",
    "\n",
    "    model = build_model(i)\n",
    "\n",
    "    hist=model.fit(x_train, y_train, batch_size=batch_size, epochs=epochs, verbose=1, validation_data=(x_test,y_test))"
   ]
  },
  {
   "cell_type": "code",
   "execution_count": 13,
   "id": "2ab4e802-44af-4399-a3dc-6ccbd5fe1ad9",
   "metadata": {},
   "outputs": [
    {
     "name": "stdout",
     "output_type": "stream",
     "text": [
      "Epoch 1/10\n",
      "938/938 [==============================] - 29s 31ms/step - loss: 0.2496 - accuracy: 0.9229 - val_loss: 0.0664 - val_accuracy: 0.9792\n",
      "Epoch 2/10\n",
      "938/938 [==============================] - 30s 32ms/step - loss: 0.0920 - accuracy: 0.9721 - val_loss: 0.0482 - val_accuracy: 0.9830\n",
      "Epoch 3/10\n",
      "938/938 [==============================] - 28s 30ms/step - loss: 0.0697 - accuracy: 0.9792 - val_loss: 0.0434 - val_accuracy: 0.9856\n",
      "Epoch 4/10\n",
      "938/938 [==============================] - 27s 29ms/step - loss: 0.0589 - accuracy: 0.9816 - val_loss: 0.0438 - val_accuracy: 0.9848\n",
      "Epoch 5/10\n",
      "938/938 [==============================] - 28s 29ms/step - loss: 0.0522 - accuracy: 0.9843 - val_loss: 0.0418 - val_accuracy: 0.9866\n",
      "Epoch 6/10\n",
      "938/938 [==============================] - 28s 29ms/step - loss: 0.0486 - accuracy: 0.9852 - val_loss: 0.0404 - val_accuracy: 0.9866\n",
      "Epoch 7/10\n",
      "938/938 [==============================] - 28s 30ms/step - loss: 0.0451 - accuracy: 0.9858 - val_loss: 0.0349 - val_accuracy: 0.9884\n",
      "Epoch 8/10\n",
      "938/938 [==============================] - 28s 29ms/step - loss: 0.0431 - accuracy: 0.9871 - val_loss: 0.0399 - val_accuracy: 0.9879\n",
      "Epoch 9/10\n",
      "938/938 [==============================] - 27s 29ms/step - loss: 0.0423 - accuracy: 0.9867 - val_loss: 0.0402 - val_accuracy: 0.9879\n",
      "Epoch 10/10\n",
      "938/938 [==============================] - 27s 29ms/step - loss: 0.0391 - accuracy: 0.9876 - val_loss: 0.0353 - val_accuracy: 0.9884\n"
     ]
    }
   ],
   "source": [
    "optimizers = ['RMSprop']\n",
    "\n",
    "for i in optimizers:\n",
    "\n",
    "    model = build_model(i)\n",
    "\n",
    "    hist=model.fit(x_train, y_train, batch_size=batch_size, epochs=epochs, verbose=1, validation_data=(x_test,y_test))"
   ]
  },
  {
   "cell_type": "code",
   "execution_count": 15,
   "id": "e6befd37-0c27-433c-b4f2-a7d72d51d477",
   "metadata": {},
   "outputs": [
    {
     "name": "stdout",
     "output_type": "stream",
     "text": [
      "Epoch 1/10\n",
      "938/938 [==============================] - 20s 21ms/step - loss: 0.8138 - accuracy: 0.7556 - val_loss: 0.3087 - val_accuracy: 0.9099\n",
      "Epoch 2/10\n",
      "938/938 [==============================] - 19s 21ms/step - loss: 0.3879 - accuracy: 0.8820 - val_loss: 0.2368 - val_accuracy: 0.9305\n",
      "Epoch 3/10\n",
      "938/938 [==============================] - 20s 21ms/step - loss: 0.3150 - accuracy: 0.9057 - val_loss: 0.1966 - val_accuracy: 0.9438\n",
      "Epoch 4/10\n",
      "938/938 [==============================] - 20s 21ms/step - loss: 0.2766 - accuracy: 0.9161 - val_loss: 0.1664 - val_accuracy: 0.9512\n",
      "Epoch 5/10\n",
      "938/938 [==============================] - 20s 21ms/step - loss: 0.2463 - accuracy: 0.9261 - val_loss: 0.1520 - val_accuracy: 0.9559\n",
      "Epoch 6/10\n",
      "938/938 [==============================] - 20s 21ms/step - loss: 0.2281 - accuracy: 0.9311 - val_loss: 0.1367 - val_accuracy: 0.9607\n",
      "Epoch 7/10\n",
      "938/938 [==============================] - 19s 20ms/step - loss: 0.2120 - accuracy: 0.9373 - val_loss: 0.1247 - val_accuracy: 0.9634\n",
      "Epoch 8/10\n",
      "938/938 [==============================] - 20s 21ms/step - loss: 0.2013 - accuracy: 0.9391 - val_loss: 0.1237 - val_accuracy: 0.9647\n",
      "Epoch 9/10\n",
      "938/938 [==============================] - 20s 21ms/step - loss: 0.1907 - accuracy: 0.9425 - val_loss: 0.1159 - val_accuracy: 0.9665\n",
      "Epoch 10/10\n",
      "938/938 [==============================] - 19s 20ms/step - loss: 0.1799 - accuracy: 0.9457 - val_loss: 0.1114 - val_accuracy: 0.9651\n"
     ]
    }
   ],
   "source": [
    "optimizers = ['SGD']\n",
    "\n",
    "for i in optimizers:\n",
    "\n",
    "    model = build_model(i)\n",
    "\n",
    "    hist=model.fit(x_train, y_train, batch_size=batch_size, epochs=epochs, verbose=1, validation_data=(x_test,y_test))"
   ]
  },
  {
   "cell_type": "code",
   "execution_count": null,
   "id": "6e7c09d7-0802-41fc-925f-a02fa3c4434a",
   "metadata": {},
   "outputs": [],
   "source": []
  }
 ],
 "metadata": {
  "kernelspec": {
   "display_name": "Python 3 (ipykernel)",
   "language": "python",
   "name": "python3"
  },
  "language_info": {
   "codemirror_mode": {
    "name": "ipython",
    "version": 3
   },
   "file_extension": ".py",
   "mimetype": "text/x-python",
   "name": "python",
   "nbconvert_exporter": "python",
   "pygments_lexer": "ipython3",
   "version": "3.9.16"
  }
 },
 "nbformat": 4,
 "nbformat_minor": 5
}
