{
 "cells": [
  {
   "cell_type": "code",
   "execution_count": 1,
   "id": "5902d2d3-5a1b-4296-b34f-0e86be64460f",
   "metadata": {},
   "outputs": [],
   "source": [
    "import math\n",
    "\n",
    "def sigmoid(x):\n",
    "    return 1/(1 + math.exp(-x))"
   ]
  },
  {
   "cell_type": "code",
   "execution_count": 6,
   "id": "f01c83d8-6b2f-4a1c-b34a-3e2b5a64a3a9",
   "metadata": {},
   "outputs": [
    {
     "data": {
      "text/plain": [
       "1.0"
      ]
     },
     "execution_count": 6,
     "metadata": {},
     "output_type": "execute_result"
    }
   ],
   "source": [
    "# As we all know sigmoid will conver any value into 0 to 1 range\n",
    "\n",
    "sigmoid(999)"
   ]
  },
  {
   "cell_type": "code",
   "execution_count": 7,
   "id": "213e30b5-523e-4c01-a26b-6bd9577a7e01",
   "metadata": {},
   "outputs": [
    {
     "data": {
      "text/plain": [
       "1.670142184809518e-05"
      ]
     },
     "execution_count": 7,
     "metadata": {},
     "output_type": "execute_result"
    }
   ],
   "source": [
    "sigmoid(-11)"
   ]
  },
  {
   "cell_type": "code",
   "execution_count": 8,
   "id": "4da3e6c0-d6f7-43a2-b3b8-213e476cba08",
   "metadata": {},
   "outputs": [
    {
     "data": {
      "text/plain": [
       "0.6224593312018546"
      ]
     },
     "execution_count": 8,
     "metadata": {},
     "output_type": "execute_result"
    }
   ],
   "source": [
    "sigmoid(0.5)"
   ]
  },
  {
   "cell_type": "code",
   "execution_count": 9,
   "id": "f7361590-11da-4390-8f67-c88a5255ab44",
   "metadata": {},
   "outputs": [],
   "source": [
    "def tanh(x):\n",
    "    return (math.exp(x) - math.exp(-x)) / (math.exp(x) + math.exp(-x))"
   ]
  },
  {
   "cell_type": "code",
   "execution_count": 10,
   "id": "fb5a841a-c0a8-4b94-8a29-3d5be01b67dd",
   "metadata": {},
   "outputs": [
    {
     "data": {
      "text/plain": [
       "1.0"
      ]
     },
     "execution_count": 10,
     "metadata": {},
     "output_type": "execute_result"
    }
   ],
   "source": [
    "tanh(100)"
   ]
  },
  {
   "cell_type": "code",
   "execution_count": 11,
   "id": "5dfd6e8b-afc7-4ab3-b63e-08920c9aaf47",
   "metadata": {},
   "outputs": [
    {
     "data": {
      "text/plain": [
       "-1.0"
      ]
     },
     "execution_count": 11,
     "metadata": {},
     "output_type": "execute_result"
    }
   ],
   "source": [
    "tanh(-55)"
   ]
  },
  {
   "cell_type": "code",
   "execution_count": 12,
   "id": "60229178-5b14-4aee-9ddc-7616c63abc38",
   "metadata": {},
   "outputs": [
    {
     "data": {
      "text/plain": [
       "0.4621171572600098"
      ]
     },
     "execution_count": 12,
     "metadata": {},
     "output_type": "execute_result"
    }
   ],
   "source": [
    "tanh(0.5)"
   ]
  },
  {
   "cell_type": "code",
   "execution_count": 13,
   "id": "40972f26-c003-4e20-9a7a-23c34a6ca4e1",
   "metadata": {},
   "outputs": [],
   "source": [
    "def relu(x):\n",
    "    return max(0,x)\n"
   ]
  },
  {
   "cell_type": "code",
   "execution_count": 14,
   "id": "0ca739d6-b53c-42a4-9068-637c134e2ac4",
   "metadata": {},
   "outputs": [
    {
     "data": {
      "text/plain": [
       "100"
      ]
     },
     "execution_count": 14,
     "metadata": {},
     "output_type": "execute_result"
    }
   ],
   "source": [
    "relu(100)"
   ]
  },
  {
   "cell_type": "code",
   "execution_count": 15,
   "id": "bf114c57-0b68-4667-bcff-dee36764612e",
   "metadata": {},
   "outputs": [
    {
     "data": {
      "text/plain": [
       "0"
      ]
     },
     "execution_count": 15,
     "metadata": {},
     "output_type": "execute_result"
    }
   ],
   "source": [
    "relu(-45)"
   ]
  },
  {
   "cell_type": "code",
   "execution_count": 16,
   "id": "c7cd5dc2-7f37-4021-9582-af62a7a6e379",
   "metadata": {},
   "outputs": [
    {
     "data": {
      "text/plain": [
       "0.5"
      ]
     },
     "execution_count": 16,
     "metadata": {},
     "output_type": "execute_result"
    }
   ],
   "source": [
    "relu(0.5)"
   ]
  },
  {
   "cell_type": "code",
   "execution_count": 17,
   "id": "9ba53c16-1b61-4ca4-bae3-db760b4fc835",
   "metadata": {},
   "outputs": [
    {
     "data": {
      "text/plain": [
       "1"
      ]
     },
     "execution_count": 17,
     "metadata": {},
     "output_type": "execute_result"
    }
   ],
   "source": [
    "relu(1)"
   ]
  },
  {
   "cell_type": "code",
   "execution_count": 18,
   "id": "7405e59f-1d90-4819-8ee5-2d183fef6dd8",
   "metadata": {},
   "outputs": [],
   "source": [
    "def leaky_relu(x):\n",
    "    return max(0.1*x,x)\n"
   ]
  },
  {
   "cell_type": "code",
   "execution_count": 19,
   "id": "33c1c473-0bc2-4373-8660-bb29014ff9d5",
   "metadata": {},
   "outputs": [
    {
     "data": {
      "text/plain": [
       "100"
      ]
     },
     "execution_count": 19,
     "metadata": {},
     "output_type": "execute_result"
    }
   ],
   "source": [
    "leaky_relu(100)"
   ]
  },
  {
   "cell_type": "code",
   "execution_count": 20,
   "id": "79a41527-0726-4bad-9672-95a101c94b2e",
   "metadata": {},
   "outputs": [
    {
     "data": {
      "text/plain": [
       "-4.7"
      ]
     },
     "execution_count": 20,
     "metadata": {},
     "output_type": "execute_result"
    }
   ],
   "source": [
    "leaky_relu(-47)"
   ]
  },
  {
   "cell_type": "code",
   "execution_count": 21,
   "id": "d5c7253e-3c54-4c6e-a94d-f1f2c1ea1df6",
   "metadata": {},
   "outputs": [
    {
     "data": {
      "text/plain": [
       "-55.5"
      ]
     },
     "execution_count": 21,
     "metadata": {},
     "output_type": "execute_result"
    }
   ],
   "source": [
    "leaky_relu(-555)"
   ]
  },
  {
   "cell_type": "code",
   "execution_count": 22,
   "id": "b44d8124-8b06-4232-b079-81be2b268fa2",
   "metadata": {},
   "outputs": [
    {
     "data": {
      "text/plain": [
       "0.5"
      ]
     },
     "execution_count": 22,
     "metadata": {},
     "output_type": "execute_result"
    }
   ],
   "source": [
    "leaky_relu(0.5)"
   ]
  },
  {
   "cell_type": "code",
   "execution_count": 23,
   "id": "531b5c8e-e5fe-46c5-abfc-cdb0722d48ea",
   "metadata": {},
   "outputs": [
    {
     "data": {
      "text/plain": [
       "1"
      ]
     },
     "execution_count": 23,
     "metadata": {},
     "output_type": "execute_result"
    }
   ],
   "source": [
    "leaky_relu(1)"
   ]
  },
  {
   "cell_type": "code",
   "execution_count": null,
   "id": "6a32644f-f8d8-436f-ae57-76cd58823813",
   "metadata": {},
   "outputs": [],
   "source": []
  }
 ],
 "metadata": {
  "kernelspec": {
   "display_name": "Python 3 (ipykernel)",
   "language": "python",
   "name": "python3"
  },
  "language_info": {
   "codemirror_mode": {
    "name": "ipython",
    "version": 3
   },
   "file_extension": ".py",
   "mimetype": "text/x-python",
   "name": "python",
   "nbconvert_exporter": "python",
   "pygments_lexer": "ipython3",
   "version": "3.9.16"
  }
 },
 "nbformat": 4,
 "nbformat_minor": 5
}
